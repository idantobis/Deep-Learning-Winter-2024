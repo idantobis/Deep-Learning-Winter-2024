{
  "cells": [
    {
      "cell_type": "markdown",
      "metadata": {
        "id": "view-in-github",
        "colab_type": "text"
      },
      "source": [
        "<a href=\"https://colab.research.google.com/github/idantobis/Deep-Learning-Winter-2024/blob/main/projects.ipynb\" target=\"_parent\"><img src=\"https://colab.research.google.com/assets/colab-badge.svg\" alt=\"Open In Colab\"/></a>"
      ]
    },
    {
      "cell_type": "markdown",
      "id": "f8761f64-31eb-49a6-b4e3-cd64db68dcdc",
      "metadata": {
        "id": "f8761f64-31eb-49a6-b4e3-cd64db68dcdc"
      },
      "source": [
        "\n",
        "## 1. Intelligent Document Scanning and Historical Analysis System for WWII Archives\n",
        "   - **Description**: Develop a document scanning and analysis application specifically for the Museum of Jewish Soldiers in WWII. The project will focus on digitizing, recognizing, and categorizing documents and photos from the museum's archive. The system should use OCR to extract text, apply NLP to identify key entities (names, dates, locations), and categorize artifacts. This could include features to recognize specific military units, historical figures, or notable events. Extra functionality could involve cross-referencing names and events for a deeper historical analysis.\n",
        "   - **Features**:\n",
        "     - **Document Digitization**: Scanning and storing images of historical documents.\n",
        "     - **OCR and Entity Recognition**: Extract text and recognize names, dates, military units, and keywords.\n",
        "     - **Categorization and Tagging**: Automatically categorize documents by topic, year, or military division.\n",
        "     - **Historical Insights**: Offer search and filtering tools, potentially with visualization, for exploring connections (e.g., people who served together, battles or operations in common).\n",
        "   - **Technologies**: Python (Tesseract OCR for text extraction), NLP tools (spaCy, Named Entity Recognition models), Django/Flask for the back end, front-end visualization with JavaScript (React), and a database for storing, organizing, and retrieving scanworld datasets."
      ]
    },
    {
      "cell_type": "markdown",
      "id": "da2871a4-7054-417d-80ed-570e82167442",
      "metadata": {
        "id": "da2871a4-7054-417d-80ed-570e82167442"
      },
      "source": [
        "## 2. Interactive Historical Timeline and Map\n",
        "   - **Description**: Develop an interactive timeline and map that visualizes events, troop movements, and notable battles involving Jewish soldiers during WWII. Users can explore events chronologically or by location, with rich details pulled from the museum's archive. This tool would allow visitors to trace individual journeys or view large-scale operations, combining educational insights with data visualization.\n",
        "   - **Features**:\n",
        "     - **Timeline View**: Display events, missions, or battles over time, allowing users to filter by date range.\n",
        "     - **Map Overlay**: Show locations of notable battles, operations, and journeys across various WWII fronts.\n",
        "     - **Detailed Pop-Ups**: Enable users to click on timeline events or map markers to view associated documents, photos, and personnel.\n",
        "   - **Technologies**: JavaScript (D3.js, Leaflet for maps), Python (data extraction from documents), Flask/Django for back end, and a database for storing location and time metadata"
      ]
    },
    {
      "cell_type": "markdown",
      "id": "cc6148cd-a19e-484d-a7b6-2f5abb3aa852",
      "metadata": {
        "id": "cc6148cd-a19e-484d-a7b6-2f5abb3aa852"
      },
      "source": [
        "## 3. Image Recognition and Tagging for Military Artifacts\n",
        "   - **Description**: Develop a system that uses computer vision to identify and categorize military artifacts from WWII (e.g., uniforms, medals, insignia, weaponry) based on images in the archive. The system could automatically suggest tags or categories, helping the museum organize its collection more efficiently.\n",
        "   - **Features**:\n",
        "     - **Artifact Detection and Classification**: Recognize and label objects in photos, such as badges, medals, or vehicles, and classify them by type or origin.\n",
        "     - **Metadata Association**: Link recognized artifacts with metadata (e.g., approximate year, region, military unit).\n",
        "     - **Search by Artifact**: Allow users to search the database by specific artifact types or classifications.\n",
        "   - **Technologies**: Python (TensorFlow/PyTorch for image recognition), OpenCV for preprocessing, Flask/Django for back-end support, and a front-end interface for browsing and searching"
      ]
    },
    {
      "cell_type": "markdown",
      "id": "8289f67d-6f96-445c-972f-8b2069a3eb7f",
      "metadata": {
        "id": "8289f67d-6f96-445c-972f-8b2069a3eb7f"
      },
      "source": [
        "## 4. Historical Document Clustering and Topic Discovery\n",
        "   - **Description**: Create a system to automatically group and discover topics in the museum’s document archive. This project would use unsupervised machine learning to cluster similar documents, helping the museum identify themes, trends, and new insights within the collection.\n",
        "   - **Features**:\n",
        "     - **Text Preprocessing and Vectorization**: Clean and process text data for analysis.\n",
        "     - **Topic Modeling**: Apply methods like Latent Dirichlet Allocation (LDA) to discover hidden topics.\n",
        "     - **Visualization**: Present clusters in an interactive format, where users can click on topics to view associated documents.\n",
        "   - **Technologies**: Python (scikit-learn, Gensim for topic modeling), NLP preprocessing tools, Flask/Django, and D3.js or Plotlf5r visualizations."
      ]
    },
    {
      "cell_type": "markdown",
      "id": "37a7e1d6-afbe-45c3-8467-e0631e01df7b",
      "metadata": {
        "id": "37a7e1d6-afbe-45c3-8467-e0631e01df7b"
      },
      "source": [
        "## 5. Interactive Family Tree Builder for Soldier Connections\n",
        "   - **Description**: Develop a tool that allows users to build interactive family trees or connection graphs of Jewish soldiers based on the archive data. This tool could help users uncover familial or unit-based connections between individuals, giving insights into family contributions to the war effort.\n",
        "   - **Features**:\n",
        "     - **Family and Military Connections**: Recognize familial relations (siblings, cousins) or military unit memberships and visualize them as nodes and edges.\n",
        "     - **Search and Filter**: Allow users to search by name, unit, or date and view related family or military connections.\n",
        "     - **Interactive Visualization**: Display connected individuals on an expandable tree, with links to documents or photos.\n",
        "   - **Technologies**: Python (NLP for entity recognition), JavaScript (D3.js or Cytoscape.js for interactive graphs), Flask/Django for back-end, and a databe6to store relational data"
      ]
    },
    {
      "cell_type": "markdown",
      "id": "03b675c0-b3e8-4dde-9403-de3657317173",
      "metadata": {
        "id": "03b675c0-b3e8-4dde-9403-de3657317173"
      },
      "source": [
        "## 6. Speech-to-Text Conversion for Oral Histories and Interviews\n",
        "   - **Description**: Develop an application that converts audio interviews and oral histories into searchable text transcripts, making the museum’s audio resources accessible to more users and searchable by keyword.\n",
        "   - **Features**:\n",
        "     - **Speech Recognition**: Convert audio files into text, applying NLP to clean and structure the transcripts.\n",
        "     - **Entity Recognition**: Identify key entities like names, locations, dates, and military terms within the transcripts.\n",
        "     - **Searchable Interface**: Create a search tool for users to look up keywords, names, or specific battles within the transcripts.\n",
        "   - **Technologies**: Python (SpeechRecognition or DeepSpeech for transcription), NLP (spaCy or NLTK for entity recognition), Flask/Django for web interface, and stog7 for audio files and transcripts"
      ]
    },
    {
      "cell_type": "markdown",
      "id": "d8d617a1-e5f0-4fe2-9e2d-dc9774ddccca",
      "metadata": {
        "id": "d8d617a1-e5f0-4fe2-9e2d-dc9774ddccca"
      },
      "source": [
        "## 7. Augmented Reality (AR) Application for Museum Exhibits\n",
        "   - **Description**: Create an AR app for use on tablets or mobile devices that museum visitors can use to scan physical exhibits and view additional digital content, like background information, related documents, or interactive 3D models.\n",
        "   - **Features**:\n",
        "     - **AR Content Overlays**: Recognize exhibits and overlay relevant digital content, including photos, documents, or videos.\n",
        "     - **Historical Context**: Provide contextual information about each exhibit, such as the historical significance of specific uniforms or weapons.\n",
        "     - **Interactive 3D Models**: Allow users to interact with digital replicas of artifacts or documents in 3D.\n",
        "   - **Technologies**: ARKit/ARCore for augmented reality, Unity for app development, Python for back-end data handli,8and cloud storage for multimedia content"
      ]
    },
    {
      "cell_type": "markdown",
      "id": "11dbf851-b7dc-4e30-bf36-e576ad0c0ac9",
      "metadata": {
        "id": "11dbf851-b7dc-4e30-bf36-e576ad0c0ac9"
      },
      "source": [
        "## 8. Interactive Testimonies Analysis Tool Using NLP\n",
        "   - **Description**: Build a platform that uses NLP to analyze and summarize soldiers' testimonies, grouping related stories by themes such as camaraderie, resilience, or specific battles. Users could explore these testimonies through thematic connections.\n",
        "   - **Features**:\n",
        "     - **Testimony Extraction and Summarization**: Summarize longer texts to make them more accessible, while identifying core themes.\n",
        "     - **Sentiment Analysis**: Analyze the sentiment to classify sections as positive, negative, or neutral.\n",
        "     - **Theme Exploration**: Allow users to search by theme, emotion, or specific battles/events, viewing interconnected testimonies.\n",
        "   - **Technologies**: Python (NLP for summarization and sentiment analysis, spaCy or Hugging Face Transformers), Flask/Django for the we and data visualization in a meaningful, historical context."
      ]
    }
  ],
  "metadata": {
    "kernelspec": {
      "display_name": "Python 3 (ipykernel)",
      "language": "python",
      "name": "python3"
    },
    "language_info": {
      "codemirror_mode": {
        "name": "ipython",
        "version": 3
      },
      "file_extension": ".py",
      "mimetype": "text/x-python",
      "name": "python",
      "nbconvert_exporter": "python",
      "pygments_lexer": "ipython3",
      "version": "3.12.4"
    },
    "colab": {
      "provenance": [],
      "include_colab_link": true
    }
  },
  "nbformat": 4,
  "nbformat_minor": 5
}